{
 "cells": [
  {
   "cell_type": "code",
   "execution_count": 1,
   "metadata": {},
   "outputs": [],
   "source": [
    "%config InlineBackend.figure_format = 'retina'\n",
    "\n",
    "import matplotlib.pyplot as plt\n",
    "import astropy.units as u\n",
    "\n",
    "from collections import namedtuple\n",
    "\n",
    "from astropy.coordinates import SkyCoord\n",
    "from astropy.table import Table\n",
    "from astropy.wcs import WCS\n",
    "from astropy.io import fits\n",
    "\n",
    "from astropy.visualization import imshow_norm\n",
    "from astropy.visualization import ZScaleInterval, LinearStretch, AsinhStretch\n",
    "\n",
    "from astropy.nddata import Cutout2D\n",
    "from astropy.convolution import Gaussian2DKernel\n",
    "\n",
    "from astroquery.vizier import Vizier\n",
    "\n",
    "from skimage.restoration import richardson_lucy\n",
    "from skimage.exposure import rescale_intensity\n",
    "from skimage.morphology import skeletonize, thin\n",
    "from skimage.transform import probabilistic_hough_line\n",
    "\n",
    "from lsst.daf.butler import Butler"
   ]
  },
  {
   "cell_type": "code",
   "execution_count": 2,
   "metadata": {},
   "outputs": [],
   "source": [
    "class VisitID(namedtuple('VisitID', 'day_obs, seq_num, detector, psf, ccd_coordinates')):\n",
    "    __slots__ = ()\n",
    "    @property\n",
    "    def visit_id(self):\n",
    "        return int(f'{self.day_obs}{self.seq_num:05d}') \n",
    "    \n",
    "exposure_list = [\n",
    "    VisitID(20241129, 236, 7, 1.3, (3310, 260)),\n",
    "    VisitID(20241129, 237, 7, 1.39, (3925, 1030)),\n",
    "    VisitID(20241129, 238, 8, 1.25, (535, 2070)),\n",
    "    VisitID(20241129, 239, 8, 1.37, (1300, 3000)),\n",
    "    VisitID(20241129, 240, 8, 1.41, (1950, 3820)),\n",
    "    VisitID(20241129, 246, 4, 1.33, (2800, 3850)),\n",
    "    VisitID(20241129, 247, 7, 1.36, (3650, 690)),\n",
    "    VisitID(20241129, 248, 8, 1.36, (200, 1650)),\n",
    "    VisitID(20241129, 249, 8, 1.34, (940, 2570)),\n",
    "    VisitID(20241129, 250, 8, 1.40, (1660, 3490)),\n",
    "    VisitID(20241207, 549, 7, 2.83, (3935, 1470)),\n",
    "    VisitID(20241207, 550, 8, 2.86, (410, 2350))\n",
    "]"
   ]
  },
  {
   "cell_type": "markdown",
   "metadata": {},
   "source": [
    "### Retrieve exposures with WCS solutions from the embargo repository"
   ]
  },
  {
   "cell_type": "code",
   "execution_count": 3,
   "metadata": {},
   "outputs": [
    {
     "name": "stderr",
     "output_type": "stream",
     "text": [
      "INFO:botocore.credentials:Found credentials in shared credentials file: /sdf/home/c/cwalter/.lsst/aws-credentials.ini\n"
     ]
    }
   ],
   "source": [
    "# Get the Exposures from the butler\n",
    "RAW = 'LSSTComCam/raw/all' \n",
    "NV = 'LSSTComCam/nightlyValidation'\n",
    "\n",
    "# Setup at USDF\n",
    "butler = Butler('/repo/embargo', collections=NV)\n",
    "home_dir = '/sdf/home/c/cwalter/test-fits/'\n",
    "home_cleaned = '/sdf/home/c/cwalter/processed-fits/'"
   ]
  },
  {
   "cell_type": "code",
   "execution_count": 4,
   "metadata": {},
   "outputs": [
    {
     "name": "stderr",
     "output_type": "stream",
     "text": [
      "INFO:numexpr.utils:Note: detected 128 virtual cores but NumExpr set to maximum of 64, check \"NUMEXPR_MAX_THREADS\" environment variable.\n",
      "INFO:numexpr.utils:Note: NumExpr detected 128 cores but \"NUMEXPR_MAX_THREADS\" not set, so enforcing safe limit of 8.\n",
      "INFO:numexpr.utils:NumExpr defaulting to 8 threads.\n",
      "/cvmfs/sw.lsst.eu/linux-x86_64/lsst_distrib/w_2024_40/conda/envs/lsst-scipipe-9.0.0-exact-ext/share/eups/Linux64/obs_base/g54c5bc6842+34edff6d8e/python/lsst/obs/base/formatters/fitsExposure.py:570: FutureWarning: Summary field [magLim] not recognized by this software version; ignoring it.\n",
      "  result = self.reader.read(**self.checked_parameters)\n"
     ]
    },
    {
     "name": "stdout",
     "output_type": "stream",
     "text": [
      "1: 20241129 CC_O_20241129_000236_R22_S21.fits detector=7 at (3310, 260)\n",
      "2: 20241129 CC_O_20241129_000237_R22_S21.fits detector=7 at (3925, 1030)\n",
      "3: 20241129 CC_O_20241129_000238_R22_S22.fits detector=8 at (535, 2070)\n",
      "4: 20241129 CC_O_20241129_000239_R22_S22.fits detector=8 at (1300, 3000)\n",
      "5: 20241129 CC_O_20241129_000240_R22_S22.fits detector=8 at (1950, 3820)\n",
      "6: 20241129 CC_O_20241129_000246_R22_S11.fits detector=4 at (2800, 3850)\n",
      "7: 20241129 CC_O_20241129_000247_R22_S21.fits detector=7 at (3650, 690)\n",
      "8: 20241129 CC_O_20241129_000248_R22_S22.fits detector=8 at (200, 1650)\n",
      "9: 20241129 CC_O_20241129_000249_R22_S22.fits detector=8 at (940, 2570)\n",
      "10: 20241129 CC_O_20241129_000250_R22_S22.fits detector=8 at (1660, 3490)\n",
      "11: 20241207 CC_O_20241207_000549_R22_S21.fits detector=7 at (3935, 1470)\n",
      "12: 20241207 CC_O_20241207_000550_R22_S22.fits detector=8 at (410, 2350)\n"
     ]
    }
   ],
   "source": [
    "def get_exposure(exposure):\n",
    "\n",
    "   calexp =  butler.get('calexp', dataId={'visit': exposure.visit_id, 'detector': exposure.detector})\n",
    "   catalog =  butler.get('src', dataId={'visit': exposure.visit_id, 'detector': exposure.detector})\n",
    "\n",
    "   wcs = WCS(calexp.getWcs().getFitsMetadata())\n",
    "   info = calexp.getInfo()\n",
    "   file_name = info.getMetadata()['FILENAME']\n",
    "\n",
    "   return calexp, catalog, wcs, file_name\n",
    "\n",
    "for i, exposure in enumerate(exposure_list):\n",
    "\n",
    "   calexp, catalog, wcs, file_name = get_exposure(exposure)\n",
    "   \n",
    "   print(f'{i+1}: {exposure.day_obs} {file_name} detector={exposure.detector} at {exposure.ccd_coordinates}')\n",
    "   calexp.writeFits(home_dir+file_name)"
   ]
  },
  {
   "cell_type": "code",
   "execution_count": 5,
   "metadata": {},
   "outputs": [
    {
     "name": "stdout",
     "output_type": "stream",
     "text": [
      "PSF is 1.3\", sigma is 6.50 pixels. 131 pixel stamp size with num_iter=910.\n",
      "PSF is 1.39\", sigma is 6.95 pixels. 140 pixel stamp size with num_iter=972.\n",
      "PSF is 1.25\", sigma is 6.25 pixels. 126 pixel stamp size with num_iter=875.\n",
      "PSF is 1.37\", sigma is 6.85 pixels. 138 pixel stamp size with num_iter=959.\n",
      "PSF is 1.41\", sigma is 7.05 pixels. 141 pixel stamp size with num_iter=987.\n",
      "PSF is 1.33\", sigma is 6.65 pixels. 134 pixel stamp size with num_iter=931.\n",
      "PSF is 1.36\", sigma is 6.80 pixels. 137 pixel stamp size with num_iter=952.\n",
      "PSF is 1.36\", sigma is 6.80 pixels. 137 pixel stamp size with num_iter=952.\n",
      "PSF is 1.34\", sigma is 6.70 pixels. 135 pixel stamp size with num_iter=938.\n",
      "PSF is 1.4\", sigma is 7.00 pixels. 140 pixel stamp size with num_iter=979.\n",
      "PSF is 2.83\", sigma is 14.15 pixels. 284 pixel stamp size with num_iter=1981.\n",
      "PSF is 2.86\", sigma is 14.30 pixels. 287 pixel stamp size with num_iter=2002.\n"
     ]
    }
   ],
   "source": [
    "#def deconvolve_track(exposure,)\n",
    "\n",
    "for i, exposure in enumerate(exposure_list):\n",
    "\n",
    "    calexp, catalog, wcs, file_name = get_exposure(exposure)\n",
    "    image = calexp.image.array\n",
    "\n",
    "    calexp_copy = calexp.clone()\n",
    "    image_copy = calexp_copy.image.array\n",
    "\n",
    "    position = exposure.ccd_coordinates\n",
    "    size = (700, 550)     # Note y,x convention\n",
    "    new_image = Cutout2D(image_copy, position, size, mode='trim')\n",
    "    new_image.data = rescale_intensity(new_image.data, out_range=(0,1))\n",
    "\n",
    "    # Make PSF \n",
    "    sigma = exposure.psf / 0.2  # Pixels\n",
    "    stamp_size = int(20*sigma) + 1\n",
    "    psf = Gaussian2DKernel(sigma, x_size=stamp_size).array\n",
    "    \n",
    "    iterations = int(exposure.psf*700)\n",
    "    # iterations = 200\n",
    "    deconvolved = richardson_lucy(new_image.data, psf, num_iter=iterations, clip=False)\n",
    "\n",
    "    print(f'PSF is {exposure.psf}\", sigma is {sigma:3.2f} pixels. {stamp_size} pixel stamp size with num_iter={iterations}.')\n",
    "\n",
    "    image_copy[new_image.slices_original]= deconvolved\n",
    "    calexp_copy.writeFits(home_cleaned+file_name.replace('CC_','CLEANED_'))"
   ]
  },
  {
   "cell_type": "markdown",
   "metadata": {},
   "source": [
    "### Take the last catalog and overlay it with SAO catalog sources to see things are reasonable."
   ]
  },
  {
   "cell_type": "code",
   "execution_count": 6,
   "metadata": {},
   "outputs": [
    {
     "name": "stderr",
     "output_type": "stream",
     "text": [
      "/cvmfs/sw.lsst.eu/linux-x86_64/lsst_distrib/w_2024_40/conda/envs/lsst-scipipe-9.0.0-exact-ext/share/eups/Linux64/obs_base/g54c5bc6842+34edff6d8e/python/lsst/obs/base/formatters/fitsExposure.py:570: FutureWarning: Summary field [magLim] not recognized by this software version; ignoring it.\n",
      "  result = self.reader.read(**self.checked_parameters)\n"
     ]
    },
    {
     "name": "stdout",
     "output_type": "stream",
     "text": [
      "PSF is 1.25, sigma is 6.25 pixels. PSF image is 126 pixels\n"
     ]
    }
   ],
   "source": [
    "exposure = exposure_list[2]\n",
    "\n",
    "calexp, catalog, wcs, file_name = get_exposure(exposure)\n",
    "image = calexp.image.array\n",
    "\n",
    "position = exposure.ccd_coordinates\n",
    "size = (700, 550)     # Note y,x convention\n",
    "new_image = Cutout2D(image, position, size, mode='trim')\n",
    "\n",
    "# Make PSF \n",
    "sigma = exposure.psf / 0.2  # Pixels\n",
    "stamp_size = int(20*sigma) + 1\n",
    "print(f'PSF is {exposure.psf}, sigma is {sigma} pixels. PSF image is {stamp_size} pixels')\n",
    "\n",
    "psf = Gaussian2DKernel(sigma, x_size=stamp_size).array\n",
    "\n",
    "new_image.data = rescale_intensity(new_image.data, out_range=(0,1))\n",
    "#deconvolved = richardson_lucy(new_image.data, psf, num_iter=2000, clip=False)\n",
    "deconvolved = richardson_lucy(new_image.data, psf, num_iter=int(exposure.psf*700), clip=False)\n"
   ]
  },
  {
   "cell_type": "code",
   "execution_count": 7,
   "metadata": {},
   "outputs": [
    {
     "data": {
      "text/html": [
       "<div><i>Table length=10</i>\n",
       "<table id=\"table140275297370640\" class=\"table-striped table-bordered table-condensed\">\n",
       "<thead><tr><th>x</th><th>y</th><th>_RAJ2000</th><th>_DEJ2000</th><th>flux</th></tr></thead>\n",
       "<thead><tr><th></th><th></th><th>deg</th><th>deg</th><th></th></tr></thead>\n",
       "<thead><tr><th>float64</th><th>float64</th><th>float64</th><th>float64</th><th>float64</th></tr></thead>\n",
       "<tr><td>3541.8431285137053</td><td>2650.438083622778</td><td>35.38337401220092</td><td>4.737062070702756</td><td>2404940.0</td></tr>\n",
       "<tr><td>3541.8406642126356</td><td>2650.438737699134</td><td>35.383373954609084</td><td>4.737061940915319</td><td>2404068.0</td></tr>\n",
       "<tr><td>1571.3098604023482</td><td>194.01195364591447</td><td>35.207416214189216</td><td>4.736956281334058</td><td>1548539.75</td></tr>\n",
       "<tr><td>1571.3098604023482</td><td>194.01195364591447</td><td>35.207416214189216</td><td>4.736956281334058</td><td>1548539.75</td></tr>\n",
       "<tr><td>1049.8917550088318</td><td>2341.724064566623</td><td>35.28286481951238</td><td>4.639594276228904</td><td>1239480.625</td></tr>\n",
       "<tr><td>1260.3861077648075</td><td>3374.80978742866</td><td>35.33527888996819</td><td>4.612782811386216</td><td>1093696.375</td></tr>\n",
       "<tr><td>1260.3861084025043</td><td>3374.8097883260757</td><td>35.335278890029606</td><td>4.6127828113826705</td><td>1093696.375</td></tr>\n",
       "<tr><td>2153.0</td><td>436.0</td><td>35.23826511222149</td><td>4.753798455845787</td><td>1016648.3125</td></tr>\n",
       "<tr><td>978.802017210659</td><td>1898.6732369178</td><td>35.261062041147554</td><td>4.651923724355461</td><td>1004931.75</td></tr>\n",
       "<tr><td>2948.0</td><td>3228.0</td><td>35.387825890478425</td><td>4.691171693131929</td><td>959938.375</td></tr>\n",
       "</table></div>"
      ],
      "text/plain": [
       "<Table length=10>\n",
       "        x                  y          ...      _DEJ2000          flux    \n",
       "                                      ...        deg                     \n",
       "     float64            float64       ...      float64         float64   \n",
       "------------------ ------------------ ... ------------------ ------------\n",
       "3541.8431285137053  2650.438083622778 ...  4.737062070702756    2404940.0\n",
       "3541.8406642126356  2650.438737699134 ...  4.737061940915319    2404068.0\n",
       "1571.3098604023482 194.01195364591447 ...  4.736956281334058   1548539.75\n",
       "1571.3098604023482 194.01195364591447 ...  4.736956281334058   1548539.75\n",
       "1049.8917550088318  2341.724064566623 ...  4.639594276228904  1239480.625\n",
       "1260.3861077648075   3374.80978742866 ...  4.612782811386216  1093696.375\n",
       "1260.3861084025043 3374.8097883260757 ... 4.6127828113826705  1093696.375\n",
       "            2153.0              436.0 ...  4.753798455845787 1016648.3125\n",
       "  978.802017210659    1898.6732369178 ...  4.651923724355461   1004931.75\n",
       "            2948.0             3228.0 ...  4.691171693131929   959938.375"
      ]
     },
     "execution_count": 7,
     "metadata": {},
     "output_type": "execute_result"
    }
   ],
   "source": [
    "# Take the sources and put them into a table including sky coordinates from WCS\n",
    "pixel_x = catalog.getColumnView().getX()\n",
    "pixel_y = catalog.getColumnView().getY()\n",
    "object_fluxes = catalog['base_CircularApertureFlux_3_0_instFlux']\n",
    "sky_coordinates = wcs.pixel_to_world(pixel_x, pixel_y)\n",
    "\n",
    "image_object_table = Table([pixel_x, pixel_y, sky_coordinates.ra, sky_coordinates.dec, object_fluxes], \n",
    "names=('x','y','_RAJ2000', '_DEJ2000', 'flux'))\n",
    "\n",
    "image_object_table.sort('flux', reverse = True)\n",
    "selected_sources = image_object_table\n",
    "selected_sources[:10]"
   ]
  },
  {
   "cell_type": "code",
   "execution_count": 8,
   "metadata": {},
   "outputs": [
    {
     "data": {
      "text/html": [
       "<div><i>Table length=837</i>\n",
       "<table id=\"table140276780645712\" class=\"table-striped table-bordered table-condensed\">\n",
       "<thead><tr><th>_q</th><th>RA_ICRS</th><th>e_RA_ICRS</th><th>DE_ICRS</th><th>e_DE_ICRS</th><th>Source</th><th>Plx</th><th>e_Plx</th><th>pmRA</th><th>e_pmRA</th><th>pmDE</th><th>e_pmDE</th><th>Dup</th><th>FG</th><th>e_FG</th><th>Gmag</th><th>e_Gmag</th><th>FBP</th><th>e_FBP</th><th>BPmag</th><th>e_BPmag</th><th>FRP</th><th>e_FRP</th><th>RPmag</th><th>e_RPmag</th><th>BP-RP</th><th>RV</th><th>e_RV</th><th>Teff</th><th>AG</th><th>E_BP-RP_</th><th>Rad</th><th>Lum</th></tr></thead>\n",
       "<thead><tr><th></th><th>deg</th><th>mas</th><th>deg</th><th>mas</th><th></th><th>mas</th><th>mas</th><th>mas / yr</th><th>mas / yr</th><th>mas / yr</th><th>mas / yr</th><th></th><th></th><th></th><th>mag</th><th>mag</th><th></th><th></th><th>mag</th><th>mag</th><th></th><th></th><th>mag</th><th>mag</th><th>mag</th><th>km / s</th><th>km / s</th><th>K</th><th>mag</th><th>mag</th><th>solRad</th><th>solLum</th></tr></thead>\n",
       "<thead><tr><th>int32</th><th>float64</th><th>float64</th><th>float64</th><th>float64</th><th>int64</th><th>float64</th><th>float32</th><th>float64</th><th>float32</th><th>float64</th><th>float32</th><th>uint8</th><th>float32</th><th>float32</th><th>float64</th><th>float64</th><th>float32</th><th>float32</th><th>float64</th><th>float64</th><th>float32</th><th>float32</th><th>float64</th><th>float64</th><th>float64</th><th>float64</th><th>float32</th><th>float64</th><th>float32</th><th>float32</th><th>float32</th><th>float64</th></tr></thead>\n",
       "<tr><td>1</td><td>35.38357480254</td><td>0.0483</td><td>4.73787615595</td><td>0.0455</td><td>2516617537128063872</td><td>1.3477</td><td>0.0582</td><td>2.950</td><td>0.106</td><td>-3.052</td><td>0.094</td><td>0</td><td>7678</td><td>5.363</td><td>15.9753</td><td>0.0008</td><td>3469</td><td>47.31</td><td>16.5008</td><td>0.0148</td><td>6669</td><td>76.39</td><td>15.2017</td><td>0.0124</td><td>1.2990</td><td>--</td><td>--</td><td>4871.00</td><td>0.2550</td><td>0.1190</td><td>0.61</td><td>0.190</td></tr>\n",
       "<tr><td>2</td><td>35.38357480254</td><td>0.0483</td><td>4.73787615595</td><td>0.0455</td><td>2516617537128063872</td><td>1.3477</td><td>0.0582</td><td>2.950</td><td>0.106</td><td>-3.052</td><td>0.094</td><td>0</td><td>7678</td><td>5.363</td><td>15.9753</td><td>0.0008</td><td>3469</td><td>47.31</td><td>16.5008</td><td>0.0148</td><td>6669</td><td>76.39</td><td>15.2017</td><td>0.0124</td><td>1.2990</td><td>--</td><td>--</td><td>4871.00</td><td>0.2550</td><td>0.1190</td><td>0.61</td><td>0.190</td></tr>\n",
       "<tr><td>3</td><td>35.20409423429</td><td>0.1964</td><td>4.73256254674</td><td>0.2306</td><td>2516525895410286208</td><td>1.0997</td><td>0.2807</td><td>32.091</td><td>0.444</td><td>-14.010</td><td>0.406</td><td>0</td><td>654.9</td><td>1.873</td><td>18.6479</td><td>0.0031</td><td>168.5</td><td>6.782</td><td>19.7848</td><td>0.0437</td><td>734.4</td><td>5.94</td><td>17.5971</td><td>0.0088</td><td>2.1877</td><td>--</td><td>--</td><td>--</td><td>--</td><td>--</td><td>--</td><td>--</td></tr>\n",
       "<tr><td>4</td><td>35.20409423429</td><td>0.1964</td><td>4.73256254674</td><td>0.2306</td><td>2516525895410286208</td><td>1.0997</td><td>0.2807</td><td>32.091</td><td>0.444</td><td>-14.010</td><td>0.406</td><td>0</td><td>654.9</td><td>1.873</td><td>18.6479</td><td>0.0031</td><td>168.5</td><td>6.782</td><td>19.7848</td><td>0.0437</td><td>734.4</td><td>5.94</td><td>17.5971</td><td>0.0088</td><td>2.1877</td><td>--</td><td>--</td><td>--</td><td>--</td><td>--</td><td>--</td><td>--</td></tr>\n",
       "<tr><td>5</td><td>35.27799225227</td><td>2.4340</td><td>4.64200506632</td><td>3.3633</td><td>2516521463004023936</td><td>--</td><td>--</td><td>--</td><td>--</td><td>--</td><td>--</td><td>0</td><td>158.4</td><td>3.354</td><td>20.1892</td><td>0.0230</td><td>119.3</td><td>6.395</td><td>20.1598</td><td>0.0582</td><td>323.4</td><td>14.02</td><td>18.4875</td><td>0.0470</td><td>1.6723</td><td>--</td><td>--</td><td>--</td><td>--</td><td>--</td><td>--</td><td>--</td></tr>\n",
       "<tr><td>10</td><td>35.38169686261</td><td>0.7910</td><td>4.68832167114</td><td>0.9458</td><td>2516615574327462912</td><td>0.2700</td><td>0.9196</td><td>4.153</td><td>1.986</td><td>-0.500</td><td>2.835</td><td>0</td><td>122.9</td><td>1.148</td><td>20.4642</td><td>0.0101</td><td>82.18</td><td>7.058</td><td>20.5644</td><td>0.0932</td><td>77.76</td><td>10.15</td><td>20.0351</td><td>0.1418</td><td>0.5294</td><td>--</td><td>--</td><td>--</td><td>--</td><td>--</td><td>--</td><td>--</td></tr>\n",
       "<tr><td>11</td><td>35.38169686261</td><td>0.7910</td><td>4.68832167114</td><td>0.9458</td><td>2516615574327462912</td><td>0.2700</td><td>0.9196</td><td>4.153</td><td>1.986</td><td>-0.500</td><td>2.835</td><td>0</td><td>122.9</td><td>1.148</td><td>20.4642</td><td>0.0101</td><td>82.18</td><td>7.058</td><td>20.5644</td><td>0.0932</td><td>77.76</td><td>10.15</td><td>20.0351</td><td>0.1418</td><td>0.5294</td><td>--</td><td>--</td><td>--</td><td>--</td><td>--</td><td>--</td><td>--</td></tr>\n",
       "<tr><td>14</td><td>35.14748573143</td><td>0.0985</td><td>4.67057945051</td><td>0.1024</td><td>2516525139496035968</td><td>-0.0748</td><td>0.1266</td><td>-0.200</td><td>0.221</td><td>-1.724</td><td>0.196</td><td>0</td><td>1846</td><td>2.625</td><td>17.5227</td><td>0.0015</td><td>900</td><td>9.873</td><td>17.9658</td><td>0.0119</td><td>1416</td><td>11.22</td><td>16.8841</td><td>0.0086</td><td>1.0817</td><td>--</td><td>--</td><td>--</td><td>--</td><td>--</td><td>--</td><td>--</td></tr>\n",
       "<tr><td>15</td><td>35.14748573143</td><td>0.0985</td><td>4.67057945051</td><td>0.1024</td><td>2516525139496035968</td><td>-0.0748</td><td>0.1266</td><td>-0.200</td><td>0.221</td><td>-1.724</td><td>0.196</td><td>0</td><td>1846</td><td>2.625</td><td>17.5227</td><td>0.0015</td><td>900</td><td>9.873</td><td>17.9658</td><td>0.0119</td><td>1416</td><td>11.22</td><td>16.8841</td><td>0.0086</td><td>1.0817</td><td>--</td><td>--</td><td>--</td><td>--</td><td>--</td><td>--</td><td>--</td></tr>\n",
       "<tr><td>...</td><td>...</td><td>...</td><td>...</td><td>...</td><td>...</td><td>...</td><td>...</td><td>...</td><td>...</td><td>...</td><td>...</td><td>...</td><td>...</td><td>...</td><td>...</td><td>...</td><td>...</td><td>...</td><td>...</td><td>...</td><td>...</td><td>...</td><td>...</td><td>...</td><td>...</td><td>...</td><td>...</td><td>...</td><td>...</td><td>...</td><td>...</td><td>...</td></tr>\n",
       "<tr><td>1183</td><td>35.30720860348</td><td>0.3928</td><td>4.74561582791</td><td>0.3988</td><td>2516617017436510336</td><td>0.5128</td><td>0.4839</td><td>-6.020</td><td>0.888</td><td>-6.455</td><td>0.831</td><td>0</td><td>235.3</td><td>1.731</td><td>19.7593</td><td>0.0080</td><td>75.02</td><td>10</td><td>20.6634</td><td>0.1447</td><td>260.2</td><td>5.828</td><td>18.7235</td><td>0.0243</td><td>1.9399</td><td>--</td><td>--</td><td>--</td><td>--</td><td>--</td><td>--</td><td>--</td></tr>\n",
       "<tr><td>1184</td><td>35.39639991153</td><td>0.5654</td><td>4.65174725607</td><td>0.5580</td><td>2516603720217706752</td><td>-0.5136</td><td>0.7110</td><td>5.254</td><td>1.321</td><td>-3.305</td><td>1.201</td><td>0</td><td>147.1</td><td>1.146</td><td>20.2697</td><td>0.0085</td><td>82.42</td><td>11.1</td><td>20.5613</td><td>0.1462</td><td>117.6</td><td>3.968</td><td>19.5858</td><td>0.0366</td><td>0.9755</td><td>--</td><td>--</td><td>--</td><td>--</td><td>--</td><td>--</td><td>--</td></tr>\n",
       "<tr><td>1184</td><td>35.39787745603</td><td>0.0948</td><td>4.65366600183</td><td>0.0900</td><td>2516603720217708032</td><td>0.1208</td><td>0.1168</td><td>4.343</td><td>0.218</td><td>-2.653</td><td>0.183</td><td>0</td><td>1974</td><td>2.584</td><td>17.4501</td><td>0.0014</td><td>1057</td><td>12.19</td><td>17.7912</td><td>0.0125</td><td>1331</td><td>10.25</td><td>16.9512</td><td>0.0084</td><td>0.8400</td><td>--</td><td>--</td><td>--</td><td>--</td><td>--</td><td>--</td><td>--</td></tr>\n",
       "<tr><td>1185</td><td>35.34743756309</td><td>0.3077</td><td>4.75149060543</td><td>0.3125</td><td>2516616879997560832</td><td>2.8611</td><td>0.3849</td><td>33.768</td><td>0.690</td><td>-24.482</td><td>0.645</td><td>0</td><td>323</td><td>1.723</td><td>19.4155</td><td>0.0058</td><td>62.16</td><td>9.973</td><td>20.8675</td><td>0.1742</td><td>443.9</td><td>8.172</td><td>18.1437</td><td>0.0200</td><td>2.7239</td><td>--</td><td>--</td><td>--</td><td>--</td><td>--</td><td>--</td><td>--</td></tr>\n",
       "<tr><td>1188</td><td>35.30720860348</td><td>0.3928</td><td>4.74561582791</td><td>0.3988</td><td>2516617017436510336</td><td>0.5128</td><td>0.4839</td><td>-6.020</td><td>0.888</td><td>-6.455</td><td>0.831</td><td>0</td><td>235.3</td><td>1.731</td><td>19.7593</td><td>0.0080</td><td>75.02</td><td>10</td><td>20.6634</td><td>0.1447</td><td>260.2</td><td>5.828</td><td>18.7235</td><td>0.0243</td><td>1.9399</td><td>--</td><td>--</td><td>--</td><td>--</td><td>--</td><td>--</td><td>--</td></tr>\n",
       "<tr><td>1190</td><td>35.23575912884</td><td>0.4263</td><td>4.64933107289</td><td>0.5047</td><td>2516522150198793088</td><td>1.2758</td><td>0.5522</td><td>5.813</td><td>0.899</td><td>-12.998</td><td>0.856</td><td>0</td><td>260.2</td><td>1.317</td><td>19.6499</td><td>0.0055</td><td>51.89</td><td>5.348</td><td>21.0638</td><td>0.1119</td><td>369.6</td><td>7.801</td><td>18.3427</td><td>0.0229</td><td>2.7211</td><td>--</td><td>--</td><td>--</td><td>--</td><td>--</td><td>--</td><td>--</td></tr>\n",
       "<tr><td>1191</td><td>35.28551232858</td><td>44.5916</td><td>4.69895923532</td><td>75.2951</td><td>2516616192803632384</td><td>--</td><td>--</td><td>--</td><td>--</td><td>--</td><td>--</td><td>0</td><td>71.19</td><td>1.687</td><td>21.0572</td><td>0.0257</td><td>--</td><td>--</td><td>--</td><td>--</td><td>--</td><td>--</td><td>--</td><td>--</td><td>--</td><td>--</td><td>--</td><td>--</td><td>--</td><td>--</td><td>--</td><td>--</td></tr>\n",
       "<tr><td>1192</td><td>35.34985085544</td><td>1.0161</td><td>4.79492325126</td><td>1.4732</td><td>2516618666703982720</td><td>2.8624</td><td>0.9740</td><td>-2.199</td><td>2.641</td><td>-5.190</td><td>3.312</td><td>0</td><td>113.7</td><td>1.241</td><td>20.5492</td><td>0.0119</td><td>42.34</td><td>8.321</td><td>21.2844</td><td>0.2134</td><td>136.4</td><td>9.468</td><td>19.4246</td><td>0.0753</td><td>1.8598</td><td>--</td><td>--</td><td>--</td><td>--</td><td>--</td><td>--</td><td>--</td></tr>\n",
       "<tr><td>1200</td><td>35.35621989807</td><td>2.5054</td><td>4.75819007583</td><td>10.5903</td><td>2516616879997564800</td><td>--</td><td>--</td><td>--</td><td>--</td><td>--</td><td>--</td><td>0</td><td>80.91</td><td>1.615</td><td>20.9184</td><td>0.0217</td><td>--</td><td>--</td><td>--</td><td>--</td><td>--</td><td>--</td><td>--</td><td>--</td><td>--</td><td>--</td><td>--</td><td>--</td><td>--</td><td>--</td><td>--</td><td>--</td></tr>\n",
       "</table></div>"
      ],
      "text/plain": [
       "<Table length=837>\n",
       "  _q      RA_ICRS     e_RA_ICRS     DE_ICRS     ... E_BP-RP_   Rad      Lum   \n",
       "            deg          mas          deg       ...   mag     solRad   solLum \n",
       "int32     float64      float64      float64     ... float32  float32  float64 \n",
       "----- --------------- --------- --------------- ... -------- ------- ---------\n",
       "    1  35.38357480254    0.0483   4.73787615595 ...   0.1190    0.61     0.190\n",
       "    2  35.38357480254    0.0483   4.73787615595 ...   0.1190    0.61     0.190\n",
       "    3  35.20409423429    0.1964   4.73256254674 ...       --      --        --\n",
       "    4  35.20409423429    0.1964   4.73256254674 ...       --      --        --\n",
       "    5  35.27799225227    2.4340   4.64200506632 ...       --      --        --\n",
       "   10  35.38169686261    0.7910   4.68832167114 ...       --      --        --\n",
       "   11  35.38169686261    0.7910   4.68832167114 ...       --      --        --\n",
       "   14  35.14748573143    0.0985   4.67057945051 ...       --      --        --\n",
       "   15  35.14748573143    0.0985   4.67057945051 ...       --      --        --\n",
       "  ...             ...       ...             ... ...      ...     ...       ...\n",
       " 1183  35.30720860348    0.3928   4.74561582791 ...       --      --        --\n",
       " 1184  35.39639991153    0.5654   4.65174725607 ...       --      --        --\n",
       " 1184  35.39787745603    0.0948   4.65366600183 ...       --      --        --\n",
       " 1185  35.34743756309    0.3077   4.75149060543 ...       --      --        --\n",
       " 1188  35.30720860348    0.3928   4.74561582791 ...       --      --        --\n",
       " 1190  35.23575912884    0.4263   4.64933107289 ...       --      --        --\n",
       " 1191  35.28551232858   44.5916   4.69895923532 ...       --      --        --\n",
       " 1192  35.34985085544    1.0161   4.79492325126 ...       --      --        --\n",
       " 1200  35.35621989807    2.5054   4.75819007583 ...       --      --        --"
      ]
     },
     "execution_count": 8,
     "metadata": {},
     "output_type": "execute_result"
    }
   ],
   "source": [
    "# Match those sources to the a catalogue\n",
    "matched_stars = Vizier(catalog = 'I/345/gaia2', timeout=240).query_region(selected_sources, \n",
    "                                                             radius=\"30s\", inner_radius=\"1s\")[0]\n",
    "matched_stars"
   ]
  },
  {
   "cell_type": "code",
   "execution_count": null,
   "metadata": {},
   "outputs": [],
   "source": [
    "wcs_axis = plt.subplot(projection=wcs)\n",
    "\n",
    "star_ra, star_dec = matched_stars['RA_ICRS'], matched_stars['DE_ICRS']\n",
    "star_coords = SkyCoord(star_ra, star_dec, unit=(u.deg, u.deg),frame='icrs')\n",
    "\n",
    "# Display Image\n",
    "imshow_norm(image, interval=ZScaleInterval(n_samples=700), interpolation='none', stretch=LinearStretch())\n",
    "#wcs_axis.imshow(image, interpolation='none', vmin=-70, vmax=150)\n",
    "\n",
    "wcs_axis.autoscale(False)\n",
    "wcs_axis.scatter_coord(star_coords, s=10, linewidth=0.2, edgecolor='white', facecolor='none')\n",
    "\n",
    "plt.grid(color='white', ls='dotted')\n",
    "plt.xlabel('Right Ascension')\n",
    "plt.ylabel('Declination')"
   ]
  },
  {
   "cell_type": "code",
   "execution_count": null,
   "metadata": {},
   "outputs": [],
   "source": [
    "plt.imshow(image, interpolation='none', origin='lower', vmin=-70, vmax=150)\n",
    "\n",
    "#display = afwDisplay.Display()\n",
    "#display.scale('asinh', 'zscale') \n",
    "#display.mtv(calexp.image)"
   ]
  },
  {
   "cell_type": "code",
   "execution_count": null,
   "metadata": {},
   "outputs": [],
   "source": [
    "plt.imshow(new_image.data, interpolation='none', origin='lower', vmin=new_image.data.min(), vmax=new_image.data.max())\n",
    "plt.colorbar()"
   ]
  },
  {
   "cell_type": "code",
   "execution_count": null,
   "metadata": {},
   "outputs": [],
   "source": [
    "plt.imshow(deconvolved, interpolation='none', origin='lower', vmin=deconvolved.min(), vmax=20)#deconvolved.max())\n",
    "plt.colorbar()"
   ]
  },
  {
   "cell_type": "code",
   "execution_count": null,
   "metadata": {},
   "outputs": [],
   "source": [
    "plt.imshow(image_copy, interpolation='none', origin='lower', vmin=0, vmax=1)\n",
    "#new_image.plot_on_original(color='white') \n",
    "plt.colorbar()"
   ]
  },
  {
   "cell_type": "code",
   "execution_count": null,
   "metadata": {},
   "outputs": [],
   "source": [
    "xdim, ydim = new_image.data.shape\n",
    "\n",
    "#chris = new_image.data[int(xdim*.86):int(xdim*.93), int(ydim*.83):int(ydim*.95)]\n",
    "#cropped_image = new_image.data[600:650, 460:520]\n",
    "#cropped_deconvolved = deconvolved[600:650, 460:520]\n",
    "\n",
    "cropped_image = new_image.data[int(xdim*.86):int(xdim*.93), int(ydim*.83):int(ydim*.95)]\n",
    "cropped_deconvolved = deconvolved[int(xdim*.86):int(xdim*.93), int(ydim*.83):int(ydim*.95)]\n",
    "\n",
    "plt.imshow(cropped_image, interpolation='none', origin='lower')\n",
    "plt.colorbar()"
   ]
  },
  {
   "cell_type": "code",
   "execution_count": null,
   "metadata": {},
   "outputs": [],
   "source": [
    "plt.imshow(cropped_deconvolved, interpolation='none', origin='lower', vmin=0, vmax=1)\n",
    "plt.colorbar()"
   ]
  },
  {
   "cell_type": "code",
   "execution_count": null,
   "metadata": {},
   "outputs": [],
   "source": [
    "fig, axes = plt.subplot_mosaic('AB', sharey=True, constrained_layout=True)\n",
    "\n",
    "axes['A'].imshow(cropped_image, interpolation='none', origin='lower', vmin=0, vmax=.8)\n",
    "axes['B'].imshow(cropped_deconvolved, interpolation='none', origin='lower', vmin=0, vmax=4)\n"
   ]
  },
  {
   "cell_type": "code",
   "execution_count": null,
   "metadata": {},
   "outputs": [],
   "source": [
    "#skeleton = skeletonize(cropped_deconvolved>.001)\n",
    "skeleton = thin(cropped_deconvolved>.01)\n",
    "lines = probabilistic_hough_line(skeleton, threshold=10, line_length=15, line_gap=2)\n",
    "\n",
    "#plt.imshow(cropped_deconvolved, origin='lower', vmax=1)\n",
    "plt.imshow(skeleton, origin='lower', interpolation='none', vmax=.01)\n",
    "\n",
    "print(f'found {len(lines)} lines')\n",
    "for line in lines:\n",
    "    p0, p1 = line\n",
    "    plt.plot((p0[0], p1[0]), (p0[1], p1[1]))\n",
    "\n",
    "plt.colorbar()"
   ]
  }
 ],
 "metadata": {
  "kernelspec": {
   "display_name": "base",
   "language": "python",
   "name": "python3"
  },
  "language_info": {
   "codemirror_mode": {
    "name": "ipython",
    "version": 3
   },
   "file_extension": ".py",
   "mimetype": "text/x-python",
   "name": "python",
   "nbconvert_exporter": "python",
   "pygments_lexer": "ipython3",
   "version": "3.11.10"
  }
 },
 "nbformat": 4,
 "nbformat_minor": 2
}
